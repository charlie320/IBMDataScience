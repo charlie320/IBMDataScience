{
    "cells": [
        {
            "cell_type": "markdown",
            "metadata": {
                "collapsed": true
            },
            "source": "# My Jupyter Notebook on IBM Watson Studio"
        },
        {
            "cell_type": "markdown",
            "metadata": {},
            "source": "__Jesus de la Rosa__<br>\nTechnical Instructor"
        },
        {
            "cell_type": "markdown",
            "metadata": {},
            "source": "_I am interested in data science because I enjoy working with numbers and statstics. I am also facinated by the all the discoveries about our world that can be accomplished through data science techniques._"
        },
        {
            "cell_type": "markdown",
            "metadata": {},
            "source": "### The following code will loop through a list of colors and print each one:"
        },
        {
            "cell_type": "code",
            "execution_count": 4,
            "metadata": {},
            "outputs": [
                {
                    "name": "stdout",
                    "output_type": "stream",
                    "text": "red\ngreen\nblue\n"
                }
            ],
            "source": "colors = ['red', 'green', 'blue']\nfor c in colors:\n    print(c)"
        },
        {
            "cell_type": "markdown",
            "metadata": {},
            "source": "### This section will demonstrate a variety of markdown techniques:\n#### Horizontal rule will be evident in the lines between sections\n\n#### Code/syntax highlighting:\nThis is an example of Python code:\n```\nprint(\"This is some Python code\")\n```\n- - -\nThis is an example of Java code:\n```Java\nint a = 5;\nint b = 6;\nint c = a + b;\n```\n***\n#### This is a blocked quote:\n>Corrupti habitant, pariatur aute iste. Magnam, distinctio? Per suspendisse congue, tristique dictum similique deserunt, primis nulla quisque! Facere. Fugit deleniti per tenetur nascetur. Tempor, molestiae fugiat magna voluptas, volutpat sollicitudin risus gravida, sequi, nullam hendrerit ridiculus, litora proident impedit?\n___\n#### Here is an example of strikethrough text:\n~~Text that has been striked through~~\n"
        },
        {
            "cell_type": "code",
            "execution_count": null,
            "metadata": {},
            "outputs": [],
            "source": ""
        }
    ],
    "metadata": {
        "kernelspec": {
            "display_name": "Python 3.6",
            "language": "python",
            "name": "python3"
        },
        "language_info": {
            "codemirror_mode": {
                "name": "ipython",
                "version": 3
            },
            "file_extension": ".py",
            "mimetype": "text/x-python",
            "name": "python",
            "nbconvert_exporter": "python",
            "pygments_lexer": "ipython3",
            "version": "3.6.9"
        }
    },
    "nbformat": 4,
    "nbformat_minor": 1
}